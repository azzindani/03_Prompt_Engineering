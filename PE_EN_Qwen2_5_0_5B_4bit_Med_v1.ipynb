{
  "cells": [
    {
      "cell_type": "markdown",
      "metadata": {
        "id": "view-in-github",
        "colab_type": "text"
      },
      "source": [
        "<a href=\"https://colab.research.google.com/github/azzindani/03_Prompt_Engineering/blob/main/PE_EN_Qwen2_5_0_5B_4bit_Med_v1.ipynb\" target=\"_parent\"><img src=\"https://colab.research.google.com/assets/colab-badge.svg\" alt=\"Open In Colab\"/></a>"
      ]
    },
    {
      "cell_type": "markdown",
      "metadata": {
        "id": "-XNrg01zW3MI"
      },
      "source": [
        "## Importing Modules"
      ]
    },
    {
      "cell_type": "code",
      "execution_count": 1,
      "metadata": {
        "id": "gJTDXG2ANJuM"
      },
      "outputs": [],
      "source": [
        "!pip install -U -q bitsandbytes\n",
        "!pip install -q optimum\n",
        "!pip install -q auto-gptq"
      ]
    },
    {
      "cell_type": "code",
      "execution_count": 2,
      "metadata": {
        "colab": {
          "base_uri": "https://localhost:8080/"
        },
        "id": "BQCM8_IKUQsQ",
        "outputId": "3bb93549-0a8e-43d9-e80c-0dc28590a05c"
      },
      "outputs": [
        {
          "output_type": "stream",
          "name": "stdout",
          "text": [
            "GPU is available!\n"
          ]
        }
      ],
      "source": [
        "import torch\n",
        "\n",
        "from transformers import (\n",
        "  AutoTokenizer,\n",
        "  AutoModelForCausalLM,\n",
        "  GenerationConfig,\n",
        "  BitsAndBytesConfig,\n",
        "  GPTQConfig\n",
        ")\n",
        "\n",
        "if torch.cuda.is_available():\n",
        "  print('GPU is available!')\n",
        "else:\n",
        "  print('GPU is not available.')"
      ]
    },
    {
      "cell_type": "markdown",
      "metadata": {
        "id": "mzYJ5KF8W-tU"
      },
      "source": [
        "## Import Model"
      ]
    },
    {
      "cell_type": "code",
      "execution_count": 3,
      "metadata": {
        "id": "fxzoSRD8W9Hi"
      },
      "outputs": [],
      "source": [
        "model_name = 'Qwen/Qwen2.5-0.5B'"
      ]
    },
    {
      "cell_type": "code",
      "execution_count": 4,
      "metadata": {
        "colab": {
          "base_uri": "https://localhost:8080/"
        },
        "id": "aXuU-hDKL2_s",
        "outputId": "81eb1da7-8fca-4aa7-c79c-34fa4b8cdbab"
      },
      "outputs": [
        {
          "output_type": "execute_result",
          "data": {
            "text/plain": [
              "device(type='cuda')"
            ]
          },
          "metadata": {},
          "execution_count": 4
        }
      ],
      "source": [
        "device = torch.device('cuda' if torch.cuda.is_available() else 'cpu')\n",
        "device"
      ]
    },
    {
      "cell_type": "code",
      "execution_count": 5,
      "metadata": {
        "colab": {
          "base_uri": "https://localhost:8080/"
        },
        "id": "BrRjlZ5KNzaQ",
        "outputId": "c932acab-e6ab-42a0-d2ac-9d9298846c33"
      },
      "outputs": [
        {
          "output_type": "stream",
          "name": "stderr",
          "text": [
            "/usr/local/lib/python3.10/dist-packages/huggingface_hub/utils/_auth.py:94: UserWarning: \n",
            "The secret `HF_TOKEN` does not exist in your Colab secrets.\n",
            "To authenticate with the Hugging Face Hub, create a token in your settings tab (https://huggingface.co/settings/tokens), set it as secret in your Google Colab and restart your session.\n",
            "You will be able to reuse this secret in all of your notebooks.\n",
            "Please note that authentication is recommended but still optional to access public models or datasets.\n",
            "  warnings.warn(\n",
            "`low_cpu_mem_usage` was None, now default to True since model is quantized.\n",
            "WARNING:accelerate.big_modeling:You shouldn't move a model that is dispatched using accelerate hooks.\n"
          ]
        }
      ],
      "source": [
        "bnb_config = BitsAndBytesConfig(\n",
        "  load_in_4bit = True,\n",
        "  bnb_4bit_quant_type = 'nf4',\n",
        "  bnb_4bit_compute_dtype = torch.float16,\n",
        "  bnb_4bit_use_double_quant = True,\n",
        ")\n",
        "\n",
        "model = AutoModelForCausalLM.from_pretrained(\n",
        "  model_name,\n",
        "  quantization_config = bnb_config,\n",
        "  trust_remote_code = True\n",
        ").to(device) #'''"
      ]
    },
    {
      "cell_type": "code",
      "execution_count": 6,
      "metadata": {
        "colab": {
          "base_uri": "https://localhost:8080/",
          "height": 55
        },
        "id": "KRx5pnnKYqCC",
        "outputId": "4520e5a3-2315-44c5-fac0-e873c3a8c32f"
      },
      "outputs": [
        {
          "output_type": "execute_result",
          "data": {
            "text/plain": [
              "'model = AutoModelForCausalLM.from_pretrained(\\n  model_name,\\n  torch_dtype = torch.float16,\\n  trust_remote_code = True\\n).to(device) #'"
            ],
            "application/vnd.google.colaboratory.intrinsic+json": {
              "type": "string"
            }
          },
          "metadata": {},
          "execution_count": 6
        }
      ],
      "source": [
        "'''model = AutoModelForCausalLM.from_pretrained(\n",
        "  model_name,\n",
        "  torch_dtype = torch.float16,\n",
        "  trust_remote_code = True\n",
        ").to(device) #'''"
      ]
    },
    {
      "cell_type": "markdown",
      "metadata": {
        "id": "dKTK2nF2ZG87"
      },
      "source": [
        "## Import Tokenizer"
      ]
    },
    {
      "cell_type": "code",
      "execution_count": 7,
      "metadata": {
        "id": "E4V35_-HZI5r"
      },
      "outputs": [],
      "source": [
        "tokenizer = AutoTokenizer.from_pretrained(model_name)"
      ]
    },
    {
      "cell_type": "markdown",
      "metadata": {
        "id": "PnZq09KdZcCj"
      },
      "source": [
        "## Model Preview"
      ]
    },
    {
      "cell_type": "code",
      "execution_count": 8,
      "metadata": {
        "id": "aDhCbZK2Abqd"
      },
      "outputs": [],
      "source": [
        "def assistant(prompt):\n",
        "  prompt_format = f\"### Human: {prompt}\\n### Assistant :\"\n",
        "\n",
        "  inputs = tokenizer(\n",
        "    prompt_format,\n",
        "    return_tensors = 'pt'\n",
        "  ).to(device)\n",
        "  generation_config = GenerationConfig(\n",
        "    do_sample = True,\n",
        "    top_k = 1,\n",
        "    temperature = 0.1,\n",
        "    max_new_tokens = 1024,\n",
        "    pad_token_id = tokenizer.eos_token_id\n",
        "  )\n",
        "  outputs = model.generate(\n",
        "    **inputs,\n",
        "    generation_config = generation_config\n",
        "  )\n",
        "  return print(tokenizer.decode(outputs[0], skip_special_tokens = True))"
      ]
    },
    {
      "cell_type": "code",
      "execution_count": 9,
      "metadata": {
        "colab": {
          "base_uri": "https://localhost:8080/"
        },
        "id": "TC8jtz93Zd98",
        "outputId": "e3a317dd-0ff3-4f5f-e549-e3c715842ab6"
      },
      "outputs": [
        {
          "output_type": "stream",
          "name": "stdout",
          "text": [
            "### Human: What are the symptoms and treatments of diabetes?\n",
            "### Assistant : Diabetes is a chronic disease that affects the body's ability to regulate blood sugar levels. It is caused by the body producing insulin, which is a hormone that helps the body cells absorb sugar from the blood. Diabetes can cause a range of symptoms, including increased thirst, frequent urination, fatigue, and unexplained weight loss. There are also treatments for diabetes, including diet, exercise, and medication.\n"
          ]
        }
      ],
      "source": [
        "# Level 1: Basic Prompt\n",
        "prompt = \"What are the symptoms and treatments of diabetes?\"\n",
        "assistant(prompt)"
      ]
    },
    {
      "cell_type": "code",
      "execution_count": 10,
      "metadata": {
        "id": "B_JXYchwq2II",
        "colab": {
          "base_uri": "https://localhost:8080/"
        },
        "outputId": "870803d0-b2ae-423c-da91-c1761cd7899b"
      },
      "outputs": [
        {
          "output_type": "stream",
          "name": "stdout",
          "text": [
            "### Human: Briefly describe the symptoms and treatments of diabetes.\n",
            "### Assistant : Diabetes is a chronic disease that affects the body's ability to regulate blood sugar levels. It is caused by the body's inability to produce enough insulin or the body's cells are unable to use insulin effectively. The symptoms of diabetes include frequent urination, increased thirst, fatigue, and unexplained weight loss. The treatments of diabetes include lifestyle changes such as diet and exercise, medication to control blood sugar levels, and monitoring blood sugar levels regularly.\n"
          ]
        }
      ],
      "source": [
        "# Level 2: Adding Detail\n",
        "prompt = \"Briefly describe the symptoms and treatments of diabetes.\"\n",
        "assistant(prompt)"
      ]
    },
    {
      "cell_type": "code",
      "execution_count": 11,
      "metadata": {
        "id": "CB1n_IbYq5WK",
        "colab": {
          "base_uri": "https://localhost:8080/"
        },
        "outputId": "c3c63888-7a72-4a41-8443-f8d9a4629426"
      },
      "outputs": [
        {
          "output_type": "stream",
          "name": "stdout",
          "text": [
            "### Human: Explain the common symptoms and treatments of diabetes to a general audience.\n",
            "### Assistant : Diabetes is a chronic condition that affects the body's ability to regulate blood sugar levels. It is a common disease that affects people of all ages, but it is more prevalent in certain groups such as people with a family history of diabetes, people who are overweight or obese, and people who have a sedentary lifestyle. The common symptoms of diabetes include increased thirst, frequent urination, fatigue, and blurry vision. The treatments of diabetes include lifestyle changes such as diet and exercise, medication such as insulin or metformin, and monitoring blood sugar levels with a glucometer.\n"
          ]
        }
      ],
      "source": [
        "# Level 3: Specify Information Type and Audience\n",
        "prompt = \"Explain the common symptoms and treatments of diabetes to a general audience.\"\n",
        "assistant(prompt)"
      ]
    },
    {
      "cell_type": "code",
      "execution_count": 12,
      "metadata": {
        "id": "rnv8u-A2q9Lp",
        "colab": {
          "base_uri": "https://localhost:8080/"
        },
        "outputId": "5a374fa9-ac57-451e-840f-ba7eefee74b5"
      },
      "outputs": [
        {
          "output_type": "stream",
          "name": "stdout",
          "text": [
            "### Human: List the main symptoms of diabetes, then outline the standard treatments.\n",
            "### Assistant : Diabetes is a chronic disease that affects the body's ability to regulate blood sugar levels. The main symptoms of diabetes include frequent urination, increased thirst, fatigue, and unexplained weight loss. The standard treatments for diabetes include diet, exercise, and medication.\n"
          ]
        }
      ],
      "source": [
        "# Level 4: Request for Structured Response\n",
        "prompt = \"List the main symptoms of diabetes, then outline the standard treatments.\"\n",
        "assistant(prompt)"
      ]
    },
    {
      "cell_type": "code",
      "execution_count": 13,
      "metadata": {
        "id": "WqDlRfswq_jR",
        "colab": {
          "base_uri": "https://localhost:8080/"
        },
        "outputId": "9e1bb907-db8b-4377-fc13-a55a8b2f5934"
      },
      "outputs": [
        {
          "output_type": "stream",
          "name": "stdout",
          "text": [
            "### Human: List the symptoms and treatments for both Type 1 and Type 2 diabetes.\n",
            "### Assistant : Type 1 diabetes is a condition where the body's immune system attacks and destroys the insulin-producing cells in the pancreas, leading to a lack of insulin. Symptoms include frequent infections, slow healing of cuts and bruises, and increased thirst and hunger. Treatment includes insulin injections, lifestyle changes, and dietary adjustments. Type 2 diabetes is a condition where the body's cells do not respond to insulin, leading to a lack of glucose in the blood. Symptoms include fatigue, weight loss, increased thirst and hunger, and increased urination. Treatment includes lifestyle changes, diet changes, and medication.\n"
          ]
        }
      ],
      "source": [
        "# Level 5: Differentiate by Type\n",
        "prompt = \"List the symptoms and treatments for both Type 1 and Type 2 diabetes.\"\n",
        "assistant(prompt)"
      ]
    },
    {
      "cell_type": "code",
      "execution_count": 14,
      "metadata": {
        "id": "xDEBWgCysP_J",
        "colab": {
          "base_uri": "https://localhost:8080/"
        },
        "outputId": "efa8fb11-6839-4e7a-8158-bda7bc1a2239"
      },
      "outputs": [
        {
          "output_type": "stream",
          "name": "stdout",
          "text": [
            "### Human: Describe the symptoms, diagnostic criteria, and treatment options for Type 1 and Type 2 diabetes, focusing on what healthcare providers should know.\n",
            "### Assistant : Type 1 and Type 2 diabetes are both chronic conditions that require medical attention. They are caused by a lack of insulin in the body, which leads to high blood sugar levels. The symptoms of both types of diabetes include frequent urination, increased thirst, fatigue, and increased appetite. The diagnostic criteria for Type 1 diabetes include symptoms such as sudden weight loss, increased thirst, increased urination, and increased appetite. Treatment options for Type 1 diabetes include insulin injections or insulin pumps, while treatment options for Type 2 diabetes include diet, exercise, and medication. Healthcare providers should know about the symptoms, diagnostic criteria, and treatment options for both types of diabetes to provide appropriate care and management.\n"
          ]
        }
      ],
      "source": [
        "# Level 6: Target a Professional Audience\n",
        "prompt = \"Describe the symptoms, diagnostic criteria, and treatment options for Type 1 and Type 2 diabetes, focusing on what healthcare providers should know.\"\n",
        "assistant(prompt)"
      ]
    },
    {
      "cell_type": "code",
      "execution_count": 15,
      "metadata": {
        "id": "i5TlF87PsaEI",
        "colab": {
          "base_uri": "https://localhost:8080/"
        },
        "outputId": "769a1787-9e81-4698-d7e9-5027211fe70a"
      },
      "outputs": [
        {
          "output_type": "stream",
          "name": "stdout",
          "text": [
            "### Human: Explain the symptoms, diagnostic markers, and treatments for diabetes, distinguishing between prediabetes, Type 1, and Type 2 diabetes. Include early signs, progression, and advanced stages.\n",
            "### Assistant : To explain the symptoms, diagnostic markers, and treatments for diabetes, we will focus on Type 2 diabetes, which is the most common form of diabetes. Type 2 diabetes is characterized by the presence of insulin resistance, which leads to a lack of insulin production or impaired insulin action. The symptoms of Type 2 diabetes can include fatigue, weight loss, increased thirst and urination, increased appetite, and blurred vision. The diagnostic markers for Type 2 diabetes include blood sugar levels, blood pressure, and body mass index (BMI). The treatments for Type 2 diabetes include lifestyle changes, medication, and insulin therapy. Early signs of Type 2 diabetes include increased thirst and urination, fatigue, weight loss, and increased appetite. The progression of Type 2 diabetes can lead to complications such as kidney failure, blindness, and amputation. Advanced stages of Type 2 diabetes include ketoacidosis, which is a condition where the body's insulin levels are too low, leading to a buildup of ketones in the blood. Early signs of ketoacidosis include nausea, vomiting, fatigue, and confusion. The progression of ketoacidosis can lead to complications such as seizures, coma, and death. Treatment for ketoacidosis includes insulin therapy, hydration, and monitoring of blood sugar levels.\n"
          ]
        }
      ],
      "source": [
        "# Level 7: Clinical Detail with Disease Stages\n",
        "prompt = \"Explain the symptoms, diagnostic markers, and treatments for diabetes, distinguishing between prediabetes, Type 1, and Type 2 diabetes. Include early signs, progression, and advanced stages.\"\n",
        "assistant(prompt)"
      ]
    },
    {
      "cell_type": "code",
      "execution_count": null,
      "metadata": {
        "id": "q6XkZnlQsdFY"
      },
      "outputs": [],
      "source": [
        "# Level 8: Add Nuance with Treatment Personalization\n",
        "prompt = \"Describe the symptoms, diagnostic markers, and treatment options for diabetes, with a focus on Type 1 and Type 2. Include how treatments may vary based on patient age, co-existing conditions, and lifestyle factors.\"\n",
        "assistant(prompt)"
      ]
    },
    {
      "cell_type": "code",
      "execution_count": null,
      "metadata": {
        "id": "i8BrF-1CssgO"
      },
      "outputs": [],
      "source": [
        "# Level 9: Consider Risks, Complications, and Treatment Impacts\n",
        "prompt = \"Provide a comprehensive overview of diabetes, covering symptoms, diagnostic criteria, and treatment options for both Type 1 and Type 2 diabetes. Explain how risks and complications, such as neuropathy and cardiovascular disease, may impact treatment decisions. Include possible side effects and patient adherence concerns for each treatment.\"\n",
        "assistant(prompt)"
      ]
    },
    {
      "cell_type": "code",
      "execution_count": null,
      "metadata": {
        "id": "2QC-W2EmsvHu"
      },
      "outputs": [],
      "source": [
        "# Level 10: Advanced Detail for Clinical Research or Specialist Training\n",
        "prompt = \"Provide an in-depth, evidence-based analysis of the symptoms, diagnostic criteria, and treatment approaches for diabetes, including both Type 1 and Type 2. Discuss the pathophysiology, biomarkers, and clinical guidelines, as well as how complications like neuropathy, retinopathy, and cardiovascular disease alter treatment. Include recent clinical research findings, new pharmaceutical options, and the role of lifestyle interventions in managing long-term patient outcomes.\"\n",
        "assistant(prompt)"
      ]
    }
  ],
  "metadata": {
    "accelerator": "GPU",
    "colab": {
      "gpuType": "T4",
      "provenance": [],
      "authorship_tag": "ABX9TyM/eG23T3Ejm+BbjXK5SUpt",
      "include_colab_link": true
    },
    "kernelspec": {
      "display_name": "Python 3",
      "name": "python3"
    },
    "language_info": {
      "name": "python"
    }
  },
  "nbformat": 4,
  "nbformat_minor": 0
}